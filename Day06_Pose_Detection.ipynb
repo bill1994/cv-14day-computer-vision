{
  "cells": [
    {
      "cell_type": "markdown",
      "metadata": {},
      "source": [
        "# Day 6 - Pose Detection\n",
        "\n",
        "Using MediaPipe to detect full-body pose landmarks in real-time webcam feed."
      ]
    },
    {
      "cell_type": "code",
      "metadata": {},
      "source": [
        "# Install MediaPipe and OpenCV if not already\n",
        "!pip install mediapipe opencv-python\n",
        "\n",
        "import cv2\n",
        "import mediapipe as mp\n",
        "\n",
        "mp_pose = mp.solutions.pose\n",
        "pose = mp_pose.Pose(min_detection_confidence=0.5, min_tracking_confidence=0.5)\n",
        "mp_drawing = mp.solutions.drawing_utils\n",
        "\n",
        "cap = cv2.VideoCapture(0)\n",
        "\n",
        "while cap.isOpened():\n",
        "    ret, frame = cap.read()\n",
        "    if not ret:\n",
        "        break\n",
        "\n",
        "    # Convert the BGR image to RGB\n",
        "    image = cv2.cvtColor(frame, cv2.COLOR_BGR2RGB)\n",
        "    image.flags.writeable = False\n",
        "\n",
        "    # Process the image and find pose landmarks\n",
        "    results = pose.process(image)\n",
        "\n",
        "    # Draw landmarks on the frame\n",
        "    image.flags.writeable = True\n",
        "    image = cv2.cvtColor(image, cv2.COLOR_RGB2BGR)\n",
        "    if results.pose_landmarks:\n",
        "        mp_drawing.draw_landmarks(\n",
        "            image, results.pose_landmarks, mp_pose.POSE_CONNECTIONS)\n",
        "\n",
        "    cv2.imshow('Pose Detection', image)\n",
        "    if cv2.waitKey(1) & 0xFF == 27:  # ESC to quit\n",
        "        break\n",
        "\n",
        "cap.release()\n",
        "cv2.destroyAllWindows()\n",
        "\n",
        "print('Day 6: Pose Detection complete!')"
      ]
    }
  ],
  "metadata": {
    "kernelspec": { \"name\": \"python3\", \"display_name\": \"Python 3\" },
    "language_info\": { \"name\": \"python\", \"version\": \"3.x\" }
  },
  "nbformat": 4,
  "nbformat_minor": 5
}
