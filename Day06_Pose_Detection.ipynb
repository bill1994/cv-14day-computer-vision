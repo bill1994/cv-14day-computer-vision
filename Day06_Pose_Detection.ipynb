{
"cells": [
{
"cell_type": "code",
"metadata": {},
"source": [
"# Day 06 - Pose Detection",
"# 使用MediaPipe做全身姿态检测，画出关键点和连接�?,
"",
"pip install mediapipe opencv-python",
"",
"import cv2",
"import mediapipe as mp",
"",
"mp_pose = mp.solutions.pose",
"mp_drawing = mp.solutions.drawing_utils",
"",
"cap = cv2.VideoCapture(0)",
"",
"with mp_pose.Pose(min_detection_confidence=0.5, min_tracking_confidence=0.5) as pose:",
"    while cap.isOpened():",
"        ret, frame = cap.read()",
"        if not ret:",
"            break",
"        image = cv2.cvtColor(frame, cv2.COLOR_BGR2RGB)",
"        results = pose.process(image)",
"        image = cv2.cvtColor(image, cv2.COLOR_RGB2BGR)",
"",
"        if results.pose_landmarks:",
"            mp_drawing.draw_landmarks(image, results.pose_landmarks, mp_pose.POSE_CONNECTIONS)",
"",
"        cv2.imshow('Pose Detection', image)",
"        if cv2.waitKey(5) & 0xFF == 27:",
"            break",
"",
"cap.release()",
"cv2.destroyAllWindows()"
]
}
],
"metadata": {},
"nbformat": 4,
"nbformat_minor": 5
}
