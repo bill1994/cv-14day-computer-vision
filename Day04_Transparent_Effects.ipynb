{
 "cells": [
  {
   "cell_type": "markdown",
   "metadata": {},
   "source": [
    "# Day 04 - Transparent Effects\n",
    "\n",
    "Learn how to add overlays, stickers, and do channel blending using OpenCV.\n",
    "\n",
    "This helps you create cool transparent effects on images and videos!"
   ]
  },
  {
   "cell_type": "code",
   "execution_count": null,
   "metadata": {},
   "outputs": [],
   "source": [
    "# Import libraries\n",
    "import cv2\n",
    "import numpy as np\n",
    "\n",
    "# Load base image\n",
    "img = cv2.imread('background.jpg')  # 背景图\n",
    "sticker = cv2.imread('sticker.png', cv2.IMREAD_UNCHANGED)  # 带透明通道的贴纸\n",
    "\n",
    "# Resize sticker if needed\n",
    "sticker = cv2.resize(sticker, (100, 100))\n",
    "\n",
    "# 分离贴纸通道和透明通道\n",
    "b,g,r,a = cv2.split(sticker)\n",
    "overlay_color = cv2.merge((b,g,r))\n",
    "mask = a\n",
    "\n",
    "# 定义贴纸放置位置\n",
    "x,y = 50, 50\n",
    "h, w = overlay_color.shape[:2]\n",
    "\n",
    "# 提取背景对应区域\n",
    "roi = img[y:y+h, x:x+w]\n",
    "\n",
    "# 创建掩码\n",
    "mask_inv = cv2.bitwise_not(mask)\n",
    "\n",
    "# 只保留背景中没有贴纸的部分\n",
    "bg = cv2.bitwise_and(roi, roi, mask=mask_inv)\n",
    "\n",
    "# 只保留贴纸的有效部分\n",
    "fg = cv2.bitwise_and(overlay_color, overlay_color, mask=mask)\n",
    "\n",
    "# 合成贴纸和背景\n",
    "dst = cv2.add(bg, fg)\n",
    "img[y:y+h, x:x+w] = dst\n",
    "\n",
    "# 显示结果\n",
    "cv2.imshow('Transparent Sticker', img)\n",
    "cv2.waitKey(0)\n",
    "cv2.destroyAllWindows()"
   ]
  },
  {
   "cell_type": "markdown",
   "metadata": {},
   "source": [
    "### 练习任务\n",
    "1. 尝试更换贴纸图片，实现不同贴纸叠加\n",
    "2. 修改贴纸位置，实现贴纸跟随鼠标移动（用OpenCV鼠标事件）\n",
    "3. 尝试调整透明度，实现半透明效果（修改alpha通道值）\n",
    "4. 用视频流替代背景，实现实时透明贴纸效果"
   ]
  }
 ],
 "metadata": {
  "kernelspec": {
   "display_name": "Python 3",
   "language": "python",
   "name": "python3"
  },
  "language_info": {
   "name": "python",
   "version": "3.x"
  }
 },
 "nbformat": 4,
 "nbformat_minor": 5
}
