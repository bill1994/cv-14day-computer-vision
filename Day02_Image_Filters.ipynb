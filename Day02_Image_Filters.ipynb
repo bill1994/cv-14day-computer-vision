{
  "cells": [
    {
      "cell_type": "markdown",
      "metadata": {},
      "source": [
        "# Day 02 - Image Filters\n",
        "\n",
        "Today we'll dive into some basic image filtering techniques with OpenCV: blur, edge detection, grayscale, and thresholding."
      ]
    },
    {
      "cell_type": "code",
      "metadata": {},
      "source": [
        "import cv2\n",
        "import numpy as np\n",
        "import matplotlib.pyplot as plt\n",
        "\n",
        "# Load image\n",
        "img = cv2.imread('sample.jpg')\n",
        "if img is None:\n",
        "    print('Error: sample.jpg not found!')\n",
        "else:\n",
        "    print('Image loaded, shape:', img.shape)\n"
      ],
      "outputs": []
    },
    {
      "cell_type": "code",
      "metadata": {},
      "source": [
        "# Grayscale\n",
        "gray = cv2.cvtColor(img, cv2.COLOR_BGR2GRAY)\n",
        "\n",
        "# Gaussian Blur\n",
        "blur = cv2.GaussianBlur(img, (7, 7), 0)\n",
        "\n",
        "# Edge detection with Canny\n",
        "edges = cv2.Canny(gray, 100, 200)\n",
        "\n",
        "# Thresholding\n",
        "ret, thresh = cv2.threshold(gray, 127, 255, cv2.THRESH_BINARY)\n"
      ],
      "outputs": []
    },
    {
      "cell_type": "code",
      "metadata": {},
      "source": [
        "# Plot results\n",
        "fig, axs = plt.subplots(1, 4, figsize=(20,5))\n",
        "axs[0].imshow(cv2.cvtColor(img, cv2.COLOR_BGR2RGB))\n",
        "axs[0].set_title('Original')\n",
        "axs[0].axis('off')\n",
        "\n",
        "axs[1].imshow(gray, cmap='gray')\n",
        "axs[1].set_title('Grayscale')\n",
        "axs[1].axis('off')\n",
        "\n",
        "axs[2].imshow(blur)\n",
        "axs[2].set_title('Gaussian Blur')\n",
        "axs[2].axis('off')\n",
        "\n",
        "axs[3].imshow(edges, cmap='gray')\n",
        "axs[3].set_title('Canny Edges')\n",
        "axs[3].axis('off')\n",
        "\n",
        "plt.show()\n"
      ],
      "outputs": []
    },
    {
      "cell_type": "code",
      "metadata": {},
      "source": [
        "# Show threshold result separately\n",
        "plt.imshow(thresh, cmap='gray')\n",
        "plt.title('Thresholding')\n",
        "plt.axis('off')\n",
        "plt.show()"
      ],
      "outputs": []
    }
  ],
  "metadata": {
    "kernelspec": { "display_name": "Python 3", "language": "python", "name": "python3" },
    "language_info": { "name": "python", "version": "3.x" }
  },
  "nbformat": 4,
  "nbformat_minor": 5
}
