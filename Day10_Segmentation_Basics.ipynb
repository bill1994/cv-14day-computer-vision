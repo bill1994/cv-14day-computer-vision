{
"cells": [
{
"cell_type": "code",
"metadata": {},
"source": [
"# Day 10 - Segmentation Basics",
"# 简单图像二值化分割示例",
"",
"import cv2",
"",
"img = cv2.imread('your_image.jpg')  rem 替换成你的图片路�?,
"gray = cv2.cvtColor(img, cv2.COLOR_BGR2GRAY)",
"_, thresh = cv2.threshold(gray, 127, 255, cv2.THRESH_BINARY)",
"",
"cv2.imshow('Segmentation', thresh)",
"cv2.waitKey(0)",
"cv2.destroyAllWindows()"
]
}
],
"metadata": {},
"nbformat": 4,
"nbformat_minor": 5
}
