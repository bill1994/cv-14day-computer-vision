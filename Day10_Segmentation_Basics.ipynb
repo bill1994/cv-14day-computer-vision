{
  "cells": [
    {
      "cell_type": "markdown",
      "metadata": {},
      "source": [
        "# Day 10 - Segmentation Basics\n",
        "\n",
        "Learn what segmentation is and why it’s a big deal in computer vision."
      ]
    },
    {
      "cell_type": "code",
      "metadata": {},
      "source": [
        "import cv2\n",
        "import numpy as np\n",
        "import matplotlib.pyplot as plt\n",
        "\n",
        "# Load sample image\n",
        "img = cv2.imread(cv2.samples.findFile('lena.jpg'))\n",
        "img_rgb = cv2.cvtColor(img, cv2.COLOR_BGR2RGB)\n",
        "\n",
        "# Convert to grayscale\n",
        "gray = cv2.cvtColor(img, cv2.COLOR_BGR2GRAY)\n",
        "\n",
        "# Simple threshold segmentation\n",
        "_, thresh = cv2.threshold(gray, 127, 255, cv2.THRESH_BINARY)\n",
        "\n",
        "# Display images\n",
        "plt.figure(figsize=(12,4))\n",
        "plt.subplot(1,3,1)\n",
        "plt.title('Original')\n",
        "plt.imshow(img_rgb)\n",
        "\n",
        "plt.subplot(1,3,2)\n",
        "plt.title('Grayscale')\n",
        "plt.imshow(gray, cmap='gray')\n",
        "\n",
        "plt.subplot(1,3,3)\n",
        "plt.title('Threshold Segmentation')\n",
        "plt.imshow(thresh, cmap='gray')\n",
        "\n",
        "plt.show()\n",
        "\n",
        "print('Day 10: Segmentation Basics complete!')"
      ]
    }
  ],
  "metadata": {
    "kernelspec": { \"name\": \"python3\", \"display_name\": \"Python 3\" },
    "language_info\": { \"name\": \"python\", \"version\": \"3.x\" }
  },
  "nbformat": 4,
  "nbformat_minor": 5
}
