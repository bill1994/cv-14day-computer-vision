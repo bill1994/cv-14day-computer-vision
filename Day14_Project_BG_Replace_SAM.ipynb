{
  "cells": [
    {
      "cell_type": "markdown",
      "metadata": {},
      "source": [
        "# Day 14 - Project: Background Replace with SAM\n",
        "\n",
        "Use the Segment Anything Model (SAM) to segment the foreground (like a person) and replace the background dynamically.\n",
        "\n",
        "This combines AI segmentation with real-time webcam feed for cool visual effects."
      ]
    },
    {
      "cell_type": "code",
      "metadata": {},
      "source": [
        "# Install dependencies\n",
        "!pip install opencv-python torch torchvision matplotlib\n",
        "# SAM repo might need to be cloned or installed depending on your setup\n",
        "# For demo, assuming sam model is accessible as sam_model\n",
        "\n",
        "import cv2\n",
        "import torch\n",
        "import numpy as np\n",
        "from matplotlib import pyplot as plt\n",
        "\n",
        "# NOTE: Replace the following with actual SAM model import and initialization\n",
        "# from segment_anything import sam_model_registry, SamPredictor\n",
        "\n",
        "def dummy_sam_predictor(image):\n",
        "    # Dummy mask for demo - replace with SAM prediction\n",
        "    h, w = image.shape[:2]\n",
        "    mask = np.zeros((h, w), dtype=np.uint8)\n",
        "    cv2.circle(mask, (w//2, h//2), min(h,w)//3, 255, -1)\n",
        "    return mask\n",
        "\n",
        "cap = cv2.VideoCapture(0)\n",
        "\n",
        "while True:\n",
        "    ret, frame = cap.read()\n",
        "    if not ret:\n",
        "        break\n",
        "\n",
        "    # Get segmentation mask\n",
        "    mask = dummy_sam_predictor(frame)\n",
        "    \n",
        "    # Create background image (solid color or image)\n",
        "    bg = np.full(frame.shape, (0, 255, 0), dtype=np.uint8)  # Green background\n",
        "    \n",
        "    # Composite foreground and background\n",
        "    mask_3ch = cv2.merge([mask, mask, mask])\n",
        "    fg = cv2.bitwise_and(frame, mask_3ch)\n",
        "    bg_mask = cv2.bitwise_not(mask)\n",
        "    bg_mask_3ch = cv2.merge([bg_mask, bg_mask, bg_mask])\n",
        "    bg_part = cv2.bitwise_and(bg, bg_mask_3ch)\n",
        "    output = cv2.add(fg, bg_part)\n",
        "    \n",
        "    cv2.imshow('BG Replace with SAM', output)\n",
        "    if cv2.waitKey(1) & 0xFF == 27:  # ESC to quit\n",
        "        break\n",
        "\n",
        "cap.release()\n",
        "cv2.destroyAllWindows()\n",
        "\n",
        "print('Day 14: Background Replace with SAM done!')"
      ]
    }
  ],
  "metadata": {
    "kernelspec": { \"name\": \"python3\", \"display_name\": \"Python 3\" },
    "language_info": { \"name\": \"python\", \"version\": \"3.x\" }
  },
  "nbformat": 4,
  "nbformat_minor": 5
}
