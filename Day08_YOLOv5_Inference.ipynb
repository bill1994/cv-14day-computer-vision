{
  "cells": [
    {
      "cell_type": "markdown",
      "metadata": {},
      "source": [
        "# Day 8 - YOLOv5 Inference\n",
        "\n",
        "Run object detection on images/video using pretrained YOLOv5."
      ]
    },
    {
      "cell_type": "code",
      "metadata": {},
      "source": [
        "# Install dependencies\n",
        "!pip install torch torchvision\n",
        "!pip install opencv-python\n",
        "!pip install matplotlib\n",
        "\n",
        "# Clone YOLOv5 repo\n",
        "!git clone https://github.com/ultralytics/yolov5\n",
        "%cd yolov5\n",
        "!pip install -r requirements.txt\n",
        "\n",
        "import torch\n",
        "import cv2\n",
        "import matplotlib.pyplot as plt\n",
        "from IPython.display import Image, display\n",
        "\n",
        "# Load pretrained YOLOv5s model\n",
        "model = torch.hub.load('ultralytics/yolov5', 'yolov5s', pretrained=True)\n",
        "\n",
        "# Load an example image\n",
        "img_path = 'https://ultralytics.com/images/zidane.jpg'\n",
        "\n",
        "# Run inference\n",
        "results = model(img_path)\n",
        "\n",
        "# Results\n",
        "results.print()\n",
        "results.show()\n",
        "\n",
        "# Save results\n",
        "results.save()  # saves to 'runs/detect/exp'\n",
        "\n",
        "print('Day 8: YOLOv5 Inference done!')"
      ]
    }
  ],
  "metadata": {
    "kernelspec": { \"name\": \"python3\", \"display_name\": \"Python 3\" },
    "language_info\": { \"name\": \"python\", \"version\": \"3.x\" }
  },
  "nbformat": 4,
  "nbformat_minor": 5
}
