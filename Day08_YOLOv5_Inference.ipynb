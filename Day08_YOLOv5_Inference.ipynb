{
"cells": [
{
"cell_type": "code",
"metadata": {},
"source": [
"# Day 08 - YOLOv5 Object Detection",
"# 使用预训练YOLOv5模型做实时物体检�?,
"",
"pip install torch torchvision",
"",
"import torch",
"import cv2",
"",
"model = torch.hub.load('ultralytics/yolov5', 'yolov5s', pretrained=True)",
"",
"cap = cv2.VideoCapture(0)",
"",
"while True:",
"    ret, frame = cap.read()",
"    if not ret:",
"        break",
"    results = model(frame)",
"    img = results.render()[0]",
"    cv2.imshow('YOLOv5 Detection', img)",
"    if cv2.waitKey(5) & 0xFF == 27:",
"        break",
"",
"cap.release()",
"cv2.destroyAllWindows()"
]
}
],
"metadata": {},
"nbformat": 4,
"nbformat_minor": 5
}
