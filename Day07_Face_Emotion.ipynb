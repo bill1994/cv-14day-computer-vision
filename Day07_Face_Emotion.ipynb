{
"cells": [
{
"cell_type": "code",
"metadata": {},
"source": [
"# Day 07 - Face & Emotion Detection",
"# 使用OpenCV的人脸检测，简单绘制人脸框",
"",
"import cv2",
"",
"face_cascade = cv2.CascadeClassifier(cv2.data.haarcascades ^+ 'haarcascade_frontalface_default.xml')",
"cap = cv2.VideoCapture(0)",
"",
"while True:",
"    ret, frame = cap.read()",
"    if not ret:",
"        break",
"    gray = cv2.cvtColor(frame, cv2.COLOR_BGR2GRAY)",
"    faces = face_cascade.detectMultiScale(gray, 1.1, 4)",
"    for (x, y, w, h) in faces:",
"        cv2.rectangle(frame, (x, y), (x+w, y+h), (255, 0, 0), 2)",
"        cv2.putText(frame, 'Face', (x, y-10), cv2.FONT_HERSHEY_SIMPLEX, 0.9, (255,0,0), 2)",
"    cv2.imshow('Face Detection', frame)",
"    if cv2.waitKey(5) & 0xFF == 27:",
"        break",
"",
"cap.release()",
"cv2.destroyAllWindows()"
]
}
],
"metadata": {},
"nbformat": 4,
"nbformat_minor": 5
}
