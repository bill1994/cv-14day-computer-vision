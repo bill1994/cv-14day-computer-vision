{
  "cells": [
    {
      "cell_type": "markdown",
      "metadata": {},
      "source": [
        "# Day 7 - Face & Emotion Detection\n",
        "\n",
        "Detect faces and estimate simple emotions in real-time using OpenCV’s Haar cascades and a basic emotion classifier."
      ]
    },
    {
      "cell_type": "code",
      "metadata": {},
      "source": [
        "# Install required libs\n",
        "!pip install opencv-python numpy\n",
        "\n",
        "import cv2\n",
        "import numpy as np\n",
        "\n",
        "# Load Haar cascade for face detection\n",
        "face_cascade = cv2.CascadeClassifier(cv2.data.haarcascades + 'haarcascade_frontalface_default.xml')\n",
        "\n",
        "# Dummy simple emotion classifier (just smiles vs no smiles for demo)\n",
        "def estimate_emotion(face_img):\n",
        "    gray = cv2.cvtColor(face_img, cv2.COLOR_BGR2GRAY)\n",
        "    # Simple threshold to detect if smiling\n",
        "    mean_intensity = np.mean(gray)\n",
        "    if mean_intensity > 110:\n",
        "        return 'Happy'\n",
        "    else:\n",
        "        return 'Neutral'\n",
        "\n",
        "cap = cv2.VideoCapture(0)\n",
        "\n",
        "while True:\n",
        "    ret, frame = cap.read()\n",
        "    if not ret:\n",
        "        break\n",
        "    gray = cv2.cvtColor(frame, cv2.COLOR_BGR2GRAY)\n",
        "    faces = face_cascade.detectMultiScale(gray, 1.3, 5)\n",
        "\n",
        "    for (x, y, w, h) in faces:\n",
        "        face_img = frame[y:y+h, x:x+w]\n",
        "        emotion = estimate_emotion(face_img)\n",
        "        cv2.rectangle(frame, (x, y), (x+w, y+h), (0, 255, 0), 2)\n",
        "        cv2.putText(frame, emotion, (x, y-10), cv2.FONT_HERSHEY_SIMPLEX, 0.9, (255, 0, 0), 2)\n",
        "\n",
        "    cv2.imshow('Face & Emotion Detection', frame)\n",
        "    if cv2.waitKey(1) & 0xFF == 27:\n",
        "        break\n",
        "\n",
        "cap.release()\n",
        "cv2.destroyAllWindows()\n",
        "\n",
        "print('Day 7: Face & Emotion Detection done!')"
      ]
    }
  ],
  "metadata": {
    "kernelspec": { \"name\": \"python3\", \"display_name\": \"Python 3\" },
    "language_info\": { \"name\": \"python\", \"version\": \"3.x\" }
  },
  "nbformat": 4,
  "nbformat_minor": 5
}
