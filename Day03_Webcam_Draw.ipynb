{
  "cells": [
    {
      "cell_type": "markdown",
      "metadata": {},
      "source": [
        "# Day 03 - Webcam Capture & Drawing\n",
        "\n",
        "Let's capture your webcam feed, draw shapes and text on it in real-time with OpenCV."
      ]
    },
    {
      "cell_type": "code",
      "metadata": {},
      "source": [
        "import cv2\n",
        "\n",
        "def main():\n",
        "    cap = cv2.VideoCapture(0)\n",
        "    if not cap.isOpened():\n",
        "        print('Error: Cannot open webcam')\n",
        "        return\n",
        "\n",
        "    while True:\n",
        "        ret, frame = cap.read()\n",
        "        if not ret:\n",
        "            print('Failed to grab frame')\n",
        "            break\n",
        "\n",
        "        # Draw a rectangle\n",
        "        cv2.rectangle(frame, (50, 50), (300, 300), (255, 0, 0), 3)\n",
        "        # Draw a circle\n",
        "        cv2.circle(frame, (400, 400), 50, (0, 255, 0), -1)\n",
        "        # Put text\n",
        "        cv2.putText(frame, 'Webcam Live', (50, 400), cv2.FONT_HERSHEY_SIMPLEX, 2, (0, 0, 255), 3)\n",
        "\n",
        "        cv2.imshow('Webcam Draw', frame)\n",
        "\n",
        "        if cv2.waitKey(1) & 0xFF == ord('q'):\n",
        "            break\n",
        "\n",
        "    cap.release()\n",
        "    cv2.destroyAllWindows()\n",
        "\n",
        "if __name__ == '__main__':\n",
        "    main()"
      ],
      "outputs": []
    }
  ],
  "metadata": {
    "kernelspec": { \"display_name\": \"Python 3\", \"language\": \"python\", \"name\": \"python3\" },
    "language_info": { \"name\": \"python\", \"version\": \"3.x\" }
  },
  "nbformat": 4,
  "nbformat_minor": 5
}
