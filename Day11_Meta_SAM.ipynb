{
  "cells": [
    {
      "cell_type": "markdown",
      "metadata": {},
      "source": [
        "# Day 11 - Meta SAM (Segment Anything Model)\n",
        "\n",
        "Use Meta's Segment Anything Model to cut out objects from images like a pro."
      ]
    },
    {
      "cell_type": "code",
      "metadata": {},
      "source": [
        "# Install necessary packages\n",
        "!pip install torch torchvision\n",
        "!pip install opencv-python\n",
        "!pip install matplotlib\n",
        "!pip install segment-anything\n",
        "\n",
        "import cv2\n",
        "import torch\n",
        "import numpy as np\n",
        "import matplotlib.pyplot as plt\n",
        "from segment_anything import sam_model_registry, SamPredictor\n",
        "\n",
        "# Load image\n",
        "img_path = 'https://images.unsplash.com/photo-1506744038136-46273834b3fb'\n",
        "img = cv2.imread(cv2.samples.findFile(img_path))\n",
        "if img is None:\n",
        "    import urllib.request\n",
        "    import numpy as np\n",
        "    resp = urllib.request.urlopen(img_path)\n",
        "    img_array = np.asarray(bytearray(resp.read()), dtype=np.uint8)\n",
        "    img = cv2.imdecode(img_array, cv2.IMREAD_COLOR)\n",
        "img_rgb = cv2.cvtColor(img, cv2.COLOR_BGR2RGB)\n",
        "\n",
        "# Load SAM model\n",
        "sam_checkpoint = 'sam_vit_h.pth'  # Make sure you download this model file\n",
        "model_type = 'vit_h'\n",
        "\n",
        "sam = sam_model_registry[model_type](checkpoint=sam_checkpoint)\n",
        "sam.to(device='cuda' if torch.cuda.is_available() else 'cpu')\n",
        "predictor = SamPredictor(sam)\n",
        "\n",
        "# Set image for predictor\n",
        "predictor.set_image(img_rgb)\n",
        "\n",
        "# Define a box prompt (example: full image)\n",
        "input_box = np.array([0, 0, img_rgb.shape[1], img_rgb.shape[0]])\n",
        "\n",
        "# Get masks\n",
        "masks, scores, logits = predictor.predict(box=input_box, multimask_output=True)\n",
        "\n",
        "# Show masks\n",
        "plt.figure(figsize=(10,10))\n",
        "plt.imshow(img_rgb)\n",
        "for i, mask in enumerate(masks):\n",
        "    plt.imshow(mask, alpha=0.3)\n",
        "plt.axis('off')\n",
        "plt.title('Segment Anything Model Masks')\n",
        "plt.show()\n",
        "\n",
        "print('Day 11: Meta SAM segmentation done!')"
      ]
    }
  ],
  "metadata": {
    "kernelspec": { \"name\": \"python3\", \"display_name\": \"Python 3\" },
    "language_info\": { \"name\": \"python\", \"version\": \"3.x\" }
  },
  "nbformat": 4,
  "nbformat_minor": 5
}
