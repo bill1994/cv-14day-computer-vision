{
"cells": [
{
"cell_type": "code",
"metadata": {},
"source": [
"# Day 11 - Segment Anything Model (SAM)",
"# 这里演示如何使用Meta最新的SAM模型做图像分割（需安装对应库）",
"",
"print(""由于依赖较多，建议参考官方仓库安装步骤："")",
"print(""https://github.com/facebookresearch/segment-anything"")",
"",
"# 这里可以加载模型，调用SAM接口实现分割"
]
}
],
"metadata": {},
"nbformat": 4,
"nbformat_minor": 5
}
