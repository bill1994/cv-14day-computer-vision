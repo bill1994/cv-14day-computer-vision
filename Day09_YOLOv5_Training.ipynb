{
  "cells": [
    {
      "cell_type": "markdown",
      "metadata": {},
      "source": [
        "# Day 9 - YOLOv5 Training\n",
        "\n",
        "Train your own custom YOLOv5 object detector on a dataset."
      ]
    },
    {
      "cell_type": "code",
      "metadata": {},
      "source": [
        "# Install dependencies\n",
        "!pip install torch torchvision\n",
        "!pip install opencv-python\n",
        "\n",
        "# Clone YOLOv5 repo if not already\n",
        "!git clone https://github.com/ultralytics/yolov5\n",
        "%cd yolov5\n",
        "!pip install -r requirements.txt\n",
        "\n",
        "# Prepare dataset - This example assumes you have your dataset in YOLO format\n",
        "# You need: images/, labels/ folders and a data.yaml describing classes & paths\n",
        "\n",
        "# Example command to start training (modify data.yaml & paths accordingly)\n",
        "!python train.py --img 640 --batch 16 --epochs 3 --data data.yaml --weights yolov5s.pt --cache\n",
        "\n",
        "print('Day 9: YOLOv5 Training setup done! Check training logs.')"
      ]
    }
  ],
  "metadata": {
    "kernelspec": { \"name\": \"python3\", \"display_name\": \"Python 3\" },
    "language_info\": { \"name\": \"python\", \"version\": \"3.x\" }
  },
  "nbformat": 4,
  "nbformat_minor": 5
}
