{
"cells": [
{
"cell_type": "code",
"metadata": {},
"source": [
"# Day 09 - YOLOv5 Training (示例)",
"# 训练自定义YOLOv5模型需要准备数据集和配置文件，这里只是给个流程示例",
"",
"print(""准备好数据集后，执行以下命令开始训练："")",
"print(""python train.py --img 640 --batch 16 --epochs 50 --data data.yaml --weights yolov5s.pt"")",
"print(""详细教程请参考YOLOv5官方文档：https://github.com/ultralytics/yolov5/wiki/Train-Custom-Data"")"
]
}
],
"metadata": {},
"nbformat": 4,
"nbformat_minor": 5
}
