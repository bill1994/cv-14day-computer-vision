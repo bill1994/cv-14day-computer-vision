{
  "cells": [
    {
      "cell_type": "markdown",
      "metadata": {},
      "source": [
        "# Day 12 - Style Transfer\n",
        "\n",
        "神经风格迁移（Neural Style Transfer）是一种使用深度学习将一张图像的风格应用到另一张图像的技术。"
      ]
    },
    {
      "cell_type": "code",
      "metadata": {},
      "source": [
        "# 安装必要库\n",
        "!pip install torch torchvision\n",
        "\n",
        "# 导入必要包\n",
        "import torch\n",
        "import torch.nn as nn\n",
        "import torch.optim as optim\n",
        "from torchvision import transforms, models\n",
        "from PIL import Image\n",
        "import matplotlib.pyplot as plt\n",
        "\n",
        "# 设备配置（CPU或GPU）\n",
        "device = torch.device(\"cuda\" if torch.cuda.is_available() else \"cpu\")\n",
        "\n",
        "# 图像加载和预处理函数\n",
        "def load_image(img_path, max_size=400, shape=None):\n",
        "    image = Image.open(img_path).convert('RGB')\n",
        "    size = max_size if max(image.size) > max_size else max(image.size)\n",
        "    if shape is not None:\n",
        "        size = shape\n",
        "    in_transform = transforms.Compose([\n",
        "        transforms.Resize(size),\n",
        "        transforms.ToTensor(),\n",
        "        transforms.Normalize((0.485, 0.456, 0.406),\n",
        "                             (0.229, 0.224, 0.225))])\n",
        "    # 归一化\n",
        "    image = in_transform(image).unsqueeze(0)\n",
        "    return image.to(device)\n",
        "\n",
        "# 显示图像函数\n",
        "def imshow(tensor, title=None):\n",
        "    image = tensor.cpu().clone().detach()\n",
        "    image = image.squeeze(0)\n",
        "    image = transforms.ToPILImage()(image)\n",
        "    plt.imshow(image)\n",
        "    if title is not None:\n",
        "        plt.title(title)\n",
        "    plt.axis('off')\n",
        "    plt.show()\n",
        "\n",
        "# 示例：加载内容图和风格图\n",
        "content = load_image('content.jpg')  # 替换成你的内容图片路径\n",
        "style = load_image('style.jpg', shape=content.shape[-2:])  # 替换成你的风格图片路径\n",
        "\n",
        "# 这里仅演示加载和显示图片，完整风格迁移流程较复杂，建议查看官方PyTorch教程。\n",
        "imshow(content, title='Content Image')\n",
        "imshow(style, title='Style Image')\n",
        "\n",
        "print(\"第12天：风格迁移示例基础完成！\")"
      ]
    }
  ],
  "metadata": {
    "kernelspec": {
      "display_name": "Python 3",
      "language": "python",
      "name": "python3"
    },
    "language_info": {
      "codemirror_mode": {
        "name": "ipython",
        "version": 3
      },
      "file_extension": ".py",
      "mimetype": "text/x-python",
      "name": "python",
      "nbconvert_exporter": "python",
      "pygments_lexer": "ipython3",
      "version": "3.8"
    }
  },
  "nbformat": 4,
  "nbformat_minor": 5
}
