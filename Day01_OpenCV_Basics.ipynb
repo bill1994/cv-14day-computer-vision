{
  "cells": [
    {
      "cell_type": "markdown",
      "metadata": {},
      "source": [
        "# Day 01 - OpenCV Basics\n",
        "\n",
        "Welcome to Day 1 of your Computer Vision journey! Today we'll cover the fundamentals of OpenCV — reading, displaying, and saving images, plus some basic drawing."
      ]
    },
    {
      "cell_type": "code",
      "metadata": {},
      "source": [
        "# Step 1: Import OpenCV and numpy\n",
        "import cv2\n",
        "import numpy as np\n",
        "\n",
        "# Step 2: Read an image\n",
        "img = cv2.imread('sample.jpg')  # Make sure you have sample.jpg in your working folder\n",
        "if img is None:\n",
        "    print('Error: sample.jpg not found!')\n",
        "else:\n",
        "    print('Image loaded successfully, shape:', img.shape)\n"
      ],
      "outputs": []
    },
    {
      "cell_type": "code",
      "metadata": {},
      "source": [
        "# Step 3: Display the image\n",
        "cv2.imshow('Sample Image', img)  # On local machine, shows a window\n",
        "# If using Colab or Paperspace, use matplotlib instead\n",
        "import matplotlib.pyplot as plt\n",
        "img_rgb = cv2.cvtColor(img, cv2.COLOR_BGR2RGB)  # Convert to RGB for matplotlib\n",
        "plt.imshow(img_rgb)\n",
        "plt.title('Sample Image')\n",
        "plt.axis('off')\n",
        "plt.show()\n"
      ],
      "outputs": []
    },
    {
      "cell_type": "code",
      "metadata": {},
      "source": [
        "# Step 4: Save the image copy\n",
        "cv2.imwrite('sample_copy.jpg', img)\n",
        "print('Image saved as sample_copy.jpg')"
      ],
      "outputs": []
    },
    {
      "cell_type": "code",
      "metadata": {},
      "source": [
        "# Step 5: Draw shapes on image\n",
        "img_draw = img.copy()\n",
        "# Draw a blue rectangle\n",
        "cv2.rectangle(img_draw, (50, 50), (200, 200), (255, 0, 0), 3)\n",
        "# Draw a green circle\n",
        "cv2.circle(img_draw, (300, 300), 50, (0, 255, 0), -1)\n",
        "# Draw text\n",
        "cv2.putText(img_draw, 'OpenCV', (50, 300), cv2.FONT_HERSHEY_SIMPLEX, 2, (0, 0, 255), 3)\n",
        "\n",
        "# Show the result\n",
        "plt.imshow(cv2.cvtColor(img_draw, cv2.COLOR_BGR2RGB))\n",
        "plt.title('Drawing on Image')\n",
        "plt.axis('off')\n",
        "plt.show()"
      ],
      "outputs": []
    }
  ],
  "metadata": {
    "kernelspec": {
      "display_name": "Python 3",
      "language": "python",
      "name": "python3"
    },
    "language_info": {
      "name": "python",
      "version": "3.x"
    }
  },
  "nbformat": 4,
  "nbformat_minor": 5
}
