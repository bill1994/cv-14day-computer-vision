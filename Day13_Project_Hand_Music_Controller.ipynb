{
  "cells": [
    {
      "cell_type": "markdown",
      "metadata": {},
      "source": [
        "# Day 13 - Project: Hand Music Controller\n",
        "\n",
        "Use hand gestures detected by MediaPipe to control music playback — a fun practical project combining CV and audio."
      ]
    },
    {
      "cell_type": "code",
      "metadata": {},
      "source": [
        "# Install required libraries\n",
        "!pip install mediapipe opencv-python pygame\n",
        "\n",
        "import cv2\n",
        "import mediapipe as mp\n",
        "import pygame\n",
        "\n",
        "# Initialize Pygame mixer for sound playback\n",
        "pygame.mixer.init()\n",
        "sound = pygame.mixer.Sound('sound.wav')  # Replace with your sound file\n",
        "\n",
        "mp_hands = mp.solutions.hands\n",
        "hands = mp_hands.Hands(min_detection_confidence=0.7, min_tracking_confidence=0.7)\n",
        "mp_draw = mp.solutions.drawing_utils\n",
        "\n",
        "cap = cv2.VideoCapture(0)\n",
        "playing = False\n",
        "\n",
        "while cap.isOpened():\n",
        "    ret, frame = cap.read()\n",
        "    if not ret:\n",
        "        break\n",
        "    \n",
        "    image = cv2.cvtColor(frame, cv2.COLOR_BGR2RGB)\n",
        "    results = hands.process(image)\n",
        "    \n",
        "    if results.multi_hand_landmarks:\n",
        "        for hand_landmarks in results.multi_hand_landmarks:\n",
        "            mp_draw.draw_landmarks(frame, hand_landmarks, mp_hands.HAND_CONNECTIONS)\n",
        "            # Example: Use thumb tip (landmark 4) and index finger tip (landmark 8) distance to toggle sound\n",
        "            thumb_tip = hand_landmarks.landmark[4]\n",
        "            index_tip = hand_landmarks.landmark[8]\n",
        "            distance = ((thumb_tip.x - index_tip.x) ** 2 + (thumb_tip.y - index_tip.y) ** 2) ** 0.5\n",
        "            \n",
        "            if distance < 0.05 and not playing:\n",
        "                sound.play()\n",
        "                playing = True\n",
        "            elif distance >= 0.05 and playing:\n",
        "                sound.stop()\n",
        "                playing = False\n",
        "    \n",
        "    cv2.imshow('Hand Music Controller', frame)\n",
        "    if cv2.waitKey(1) & 0xFF == 27:\n",
        "        break\n",
        "\n",
        "cap.release()\n",
        "cv2.destroyAllWindows()\n",
        "\n",
        "print('Day 13: Hand Music Controller project done!')"
      ]
    }
  ],
  "metadata": {
    "kernelspec": { "name": "python3", "display_name": "Python 3" },
    "language_info": { "name": "python", "version": "3.x" }
  },
  "nbformat": 4,
  "nbformat_minor": 5
}
